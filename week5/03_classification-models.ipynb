{
 "cells": [
  {
   "cell_type": "markdown",
   "metadata": {},
   "source": [
    "## Chapter 3 – Classification\n",
    "\n",
    "_This notebook contains sample code adapted from chapter 3._"
   ]
  },
  {
   "cell_type": "markdown",
   "metadata": {},
   "source": [
    "### Setup"
   ]
  },
  {
   "cell_type": "markdown",
   "metadata": {},
   "source": [
    "First, let's make sure this notebook works well in both python 2 and 3, import a few common modules, ensure MatplotLib plots figures inline and prepare a function to save the figures:"
   ]
  },
  {
   "cell_type": "code",
   "execution_count": 1,
   "metadata": {},
   "outputs": [],
   "source": [
    "# To support both python 2 and python 3\n",
    "from __future__ import division, print_function, unicode_literals\n",
    "\n",
    "from time import time\n",
    "\n",
    "# Common imports\n",
    "import numpy as np\n",
    "import os\n",
    "\n",
    "# to make this notebook's output stable across runs\n",
    "np.random.seed(42)\n",
    "\n",
    "# To plot pretty figures\n",
    "%matplotlib inline\n",
    "import matplotlib\n",
    "import matplotlib.pyplot as plt\n",
    "plt.rcParams['axes.labelsize'] = 14\n",
    "plt.rcParams['xtick.labelsize'] = 12\n",
    "plt.rcParams['ytick.labelsize'] = 12\n",
    "\n",
    "# Where to save the figures\n",
    "PROJECT_ROOT_DIR = \".\"\n",
    "CHAPTER_ID = \"classification\"\n",
    "\n",
    "def save_fig(fig_id, tight_layout=True):\n",
    "    path = os.path.join(PROJECT_ROOT_DIR, \"images\", CHAPTER_ID, fig_id + \".png\")\n",
    "    print(\"Saving figure\", fig_id)\n",
    "    if tight_layout:\n",
    "        plt.tight_layout()\n",
    "    plt.savefig(path, format='png', dpi=300)"
   ]
  },
  {
   "cell_type": "markdown",
   "metadata": {},
   "source": [
    "### Load MNIST Dataset"
   ]
  },
  {
   "cell_type": "code",
   "execution_count": 2,
   "metadata": {},
   "outputs": [],
   "source": [
    "from sklearn.datasets import fetch_mldata\n",
    "mnist = fetch_mldata('MNIST original')"
   ]
  },
  {
   "cell_type": "code",
   "execution_count": 3,
   "metadata": {},
   "outputs": [
    {
     "data": {
      "text/plain": [
       "(70000, 784)"
      ]
     },
     "execution_count": 3,
     "metadata": {},
     "output_type": "execute_result"
    }
   ],
   "source": [
    "X, y = mnist[\"data\"], mnist[\"target\"]\n",
    "X.shape"
   ]
  },
  {
   "cell_type": "code",
   "execution_count": 11,
   "metadata": {},
   "outputs": [],
   "source": [
    "X_train, X_test, y_train, y_test = X[:60000], X[60000:], y[:60000], y[60000:]"
   ]
  },
  {
   "cell_type": "code",
   "execution_count": 12,
   "metadata": {},
   "outputs": [],
   "source": [
    "import numpy as np\n",
    "\n",
    "shuffle_index = np.random.permutation(60000)\n",
    "X_train, y_train = X_train[shuffle_index], y_train[shuffle_index]"
   ]
  },
  {
   "cell_type": "markdown",
   "metadata": {},
   "source": [
    "Scale the data"
   ]
  },
  {
   "cell_type": "code",
   "execution_count": 13,
   "metadata": {},
   "outputs": [],
   "source": [
    "from sklearn.preprocessing import StandardScaler\n",
    "scaler = StandardScaler()\n",
    "#X_train = scaler.fit_transform(X_train)"
   ]
  },
  {
   "cell_type": "markdown",
   "metadata": {},
   "source": [
    "### A Binary classifier: 5 or not 5\n",
    "\n",
    "Use several models to try out a simplier problem: binary classification. "
   ]
  },
  {
   "cell_type": "markdown",
   "metadata": {},
   "source": [
    "First set up the training label and test label for the 5_or_not_5 classifier. The input features (X_train and X_test) remain the same. "
   ]
  },
  {
   "cell_type": "code",
   "execution_count": 14,
   "metadata": {},
   "outputs": [],
   "source": [
    "y_train_5 = (y_train == 5)\n",
    "y_test_5 = (y_test == 5)"
   ]
  },
  {
   "cell_type": "markdown",
   "metadata": {},
   "source": [
    "### 1. Logistic Regression Classifier \n",
    "\n",
    "Logistic regression is a linear classification model"
   ]
  },
  {
   "cell_type": "code",
   "execution_count": 8,
   "metadata": {
    "scrolled": true
   },
   "outputs": [],
   "source": [
    "from sklearn.linear_model import LogisticRegression\n",
    "logit_clf = LogisticRegression(solver = 'lbfgs') # the default solver='liblinear' is very slow"
   ]
  },
  {
   "cell_type": "code",
   "execution_count": 9,
   "metadata": {},
   "outputs": [
    {
     "name": "stdout",
     "output_type": "stream",
     "text": [
      "Time elapsed: 6.00s\n"
     ]
    }
   ],
   "source": [
    "start_time = time()\n",
    "logit_clf.fit(X_train, y_train_5)\n",
    "print('Time elapsed: %.2fs' % (time()-start_time))"
   ]
  },
  {
   "cell_type": "markdown",
   "metadata": {},
   "source": [
    "Use 3-fold cross-validation to evaluate the model"
   ]
  },
  {
   "cell_type": "code",
   "execution_count": 19,
   "metadata": {},
   "outputs": [
    {
     "data": {
      "text/plain": [
       "array([0.9742 , 0.97315, 0.97415])"
      ]
     },
     "execution_count": 19,
     "metadata": {},
     "output_type": "execute_result"
    }
   ],
   "source": [
    "from sklearn.model_selection import cross_val_score\n",
    "cross_val_score(logit_clf, X_train, y_train_5, cv=3, scoring=\"accuracy\")"
   ]
  },
  {
   "cell_type": "markdown",
   "metadata": {},
   "source": [
    "Evaluate the model using cross_val_predict (not on the test data)"
   ]
  },
  {
   "cell_type": "code",
   "execution_count": 20,
   "metadata": {},
   "outputs": [],
   "source": [
    "from sklearn.model_selection import cross_val_predict\n",
    "y_train_pred_logit_clf = cross_val_predict(logit_clf, X_train, y_train_5, cv=3)"
   ]
  },
  {
   "cell_type": "markdown",
   "metadata": {},
   "source": [
    "Print out the confusion matrix: the count of true negatives is C{0,0}, false negatives is C{1,0}, true positives is C{1,1} and false positives is C{0,1}."
   ]
  },
  {
   "cell_type": "code",
   "execution_count": 21,
   "metadata": {},
   "outputs": [
    {
     "data": {
      "text/plain": [
       "array([[54039,   540],\n",
       "       [ 1030,  4391]])"
      ]
     },
     "execution_count": 21,
     "metadata": {},
     "output_type": "execute_result"
    }
   ],
   "source": [
    "from sklearn.metrics import confusion_matrix\n",
    "confusion_matrix(y_train_5, y_train_pred_logit_clf)"
   ]
  },
  {
   "cell_type": "markdown",
   "metadata": {},
   "source": [
    "Get the precision score "
   ]
  },
  {
   "cell_type": "code",
   "execution_count": 22,
   "metadata": {},
   "outputs": [
    {
     "data": {
      "text/plain": [
       "0.8904887446765362"
      ]
     },
     "execution_count": 22,
     "metadata": {},
     "output_type": "execute_result"
    }
   ],
   "source": [
    "from sklearn.metrics import precision_score, recall_score\n",
    "\n",
    "precision_score(y_train_5, y_train_pred_logit_clf)"
   ]
  },
  {
   "cell_type": "markdown",
   "metadata": {},
   "source": [
    "And the recall score"
   ]
  },
  {
   "cell_type": "code",
   "execution_count": 23,
   "metadata": {},
   "outputs": [
    {
     "data": {
      "text/plain": [
       "0.8099981553218963"
      ]
     },
     "execution_count": 23,
     "metadata": {},
     "output_type": "execute_result"
    }
   ],
   "source": [
    "recall_score(y_train_5, y_train_pred_logit_clf)"
   ]
  },
  {
   "cell_type": "markdown",
   "metadata": {},
   "source": [
    "Now test the model on test data set"
   ]
  },
  {
   "cell_type": "code",
   "execution_count": 24,
   "metadata": {},
   "outputs": [],
   "source": [
    "y_pred_logit_clf = logit_clf.predict(X_test)"
   ]
  },
  {
   "cell_type": "code",
   "execution_count": 25,
   "metadata": {},
   "outputs": [
    {
     "data": {
      "text/plain": [
       "array([[9034,   74],\n",
       "       [ 147,  745]])"
      ]
     },
     "execution_count": 25,
     "metadata": {},
     "output_type": "execute_result"
    }
   ],
   "source": [
    "from sklearn.metrics import confusion_matrix\n",
    "\n",
    "confusion_matrix(y_test_5, y_pred_logit_clf)"
   ]
  },
  {
   "cell_type": "markdown",
   "metadata": {},
   "source": [
    "Check the precision and recall score of our model on the test data"
   ]
  },
  {
   "cell_type": "code",
   "execution_count": 26,
   "metadata": {},
   "outputs": [
    {
     "data": {
      "text/plain": [
       "0.9096459096459096"
      ]
     },
     "execution_count": 26,
     "metadata": {},
     "output_type": "execute_result"
    }
   ],
   "source": [
    "from sklearn.metrics import precision_score, recall_score\n",
    "\n",
    "precision_score(y_test_5, y_pred_logit_clf)"
   ]
  },
  {
   "cell_type": "markdown",
   "metadata": {},
   "source": [
    "And the recall score"
   ]
  },
  {
   "cell_type": "code",
   "execution_count": 27,
   "metadata": {
    "scrolled": true
   },
   "outputs": [
    {
     "data": {
      "text/plain": [
       "0.8352017937219731"
      ]
     },
     "execution_count": 27,
     "metadata": {},
     "output_type": "execute_result"
    }
   ],
   "source": [
    "recall_score(y_test_5, y_pred_logit_clf)"
   ]
  },
  {
   "cell_type": "markdown",
   "metadata": {},
   "source": [
    "### 2. Stochastic Gradient Descent Classifier \n",
    "\n",
    "Stochastic Gradient Descent Classifier is also a linear classification model"
   ]
  },
  {
   "cell_type": "code",
   "execution_count": 30,
   "metadata": {},
   "outputs": [],
   "source": [
    "from sklearn.linear_model import SGDClassifier\n",
    "sgd_clf = SGDClassifier(max_iter=10, random_state=42, verbose=2)"
   ]
  },
  {
   "cell_type": "code",
   "execution_count": 31,
   "metadata": {},
   "outputs": [
    {
     "name": "stdout",
     "output_type": "stream",
     "text": [
      "-- Epoch 1\n",
      "Norm: 8032.56, NNZs: 628, Bias: 66.772136, T: 60000, Avg. loss: 95455.342160\n",
      "Total training time: 0.06 seconds.\n",
      "-- Epoch 2\n",
      "Norm: 4807.31, NNZs: 635, Bias: 74.527302, T: 120000, Avg. loss: 13014.075360\n",
      "Total training time: 0.13 seconds.\n",
      "-- Epoch 3\n",
      "Norm: 3687.66, NNZs: 640, Bias: 79.844842, T: 180000, Avg. loss: 7957.697351\n",
      "Total training time: 0.19 seconds.\n",
      "-- Epoch 4\n",
      "Norm: 2991.65, NNZs: 643, Bias: 82.888418, T: 240000, Avg. loss: 5508.076104\n",
      "Total training time: 0.25 seconds.\n",
      "-- Epoch 5\n",
      "Norm: 2529.77, NNZs: 644, Bias: 86.117183, T: 300000, Avg. loss: 4319.862264\n",
      "Total training time: 0.31 seconds.\n",
      "-- Epoch 6\n",
      "Norm: 2269.00, NNZs: 644, Bias: 88.405820, T: 360000, Avg. loss: 3412.976325\n",
      "Total training time: 0.37 seconds.\n",
      "-- Epoch 7\n",
      "Norm: 2019.09, NNZs: 646, Bias: 90.057966, T: 420000, Avg. loss: 2882.621686\n",
      "Total training time: 0.43 seconds.\n",
      "-- Epoch 8\n",
      "Norm: 1815.92, NNZs: 647, Bias: 91.549346, T: 480000, Avg. loss: 2472.263598\n",
      "Total training time: 0.49 seconds.\n",
      "-- Epoch 9\n",
      "Norm: 1686.84, NNZs: 648, Bias: 92.902573, T: 540000, Avg. loss: 2174.022755\n",
      "Total training time: 0.55 seconds.\n",
      "-- Epoch 10\n",
      "Norm: 1554.67, NNZs: 651, Bias: 94.174339, T: 600000, Avg. loss: 1937.441500\n",
      "Total training time: 0.61 seconds.\n",
      "Time elapsed: 0.93s\n"
     ]
    }
   ],
   "source": [
    "start_time = time()\n",
    "sgd_clf.fit(X_train, y_train_5)\n",
    "print('Time elapsed: %.2fs' % (time()-start_time))"
   ]
  },
  {
   "cell_type": "markdown",
   "metadata": {},
   "source": [
    "Cross validate the model"
   ]
  },
  {
   "cell_type": "code",
   "execution_count": 34,
   "metadata": {},
   "outputs": [
    {
     "name": "stdout",
     "output_type": "stream",
     "text": [
      "-- Epoch 1\n",
      "Norm: 9410.59, NNZs: 629, Bias: 18.138697, T: 47999, Avg. loss: 110146.413705\n",
      "Total training time: 0.05 seconds.\n",
      "-- Epoch 2\n",
      "Norm: 5622.21, NNZs: 636, Bias: 26.757462, T: 95998, Avg. loss: 16898.938446\n",
      "Total training time: 0.10 seconds.\n",
      "-- Epoch 3\n",
      "Norm: 4367.50, NNZs: 644, Bias: 30.721698, T: 143997, Avg. loss: 9554.779476\n",
      "Total training time: 0.15 seconds.\n",
      "-- Epoch 4\n",
      "Norm: 3575.42, NNZs: 648, Bias: 34.023480, T: 191996, Avg. loss: 6663.896820\n",
      "Total training time: 0.20 seconds.\n",
      "-- Epoch 5\n",
      "Norm: 3105.98, NNZs: 649, Bias: 36.371776, T: 239995, Avg. loss: 5115.181526\n",
      "Total training time: 0.25 seconds.\n",
      "-- Epoch 6\n",
      "Norm: 2747.58, NNZs: 654, Bias: 38.543547, T: 287994, Avg. loss: 4300.794214\n",
      "Total training time: 0.30 seconds.\n",
      "-- Epoch 7\n",
      "Norm: 2497.68, NNZs: 655, Bias: 39.983873, T: 335993, Avg. loss: 3582.435063\n",
      "Total training time: 0.36 seconds.\n",
      "-- Epoch 8\n",
      "Norm: 2280.11, NNZs: 660, Bias: 41.271082, T: 383992, Avg. loss: 3052.730456\n",
      "Total training time: 0.41 seconds.\n",
      "-- Epoch 9\n",
      "Norm: 2063.58, NNZs: 660, Bias: 42.495418, T: 431991, Avg. loss: 2674.235638\n",
      "Total training time: 0.46 seconds.\n",
      "-- Epoch 10\n",
      "Norm: 1909.68, NNZs: 661, Bias: 43.522876, T: 479990, Avg. loss: 2393.884855\n",
      "Total training time: 0.52 seconds.\n",
      "-- Epoch 1\n",
      "Norm: 9291.11, NNZs: 619, Bias: 30.414730, T: 48000, Avg. loss: 113010.746110\n",
      "Total training time: 0.05 seconds.\n",
      "-- Epoch 2\n",
      "Norm: 5917.14, NNZs: 631, Bias: 39.711832, T: 96000, Avg. loss: 16692.237707\n",
      "Total training time: 0.10 seconds.\n",
      "-- Epoch 3\n",
      "Norm: 4334.23, NNZs: 639, Bias: 45.493609, T: 144000, Avg. loss: 9592.755838\n",
      "Total training time: 0.15 seconds.\n",
      "-- Epoch 4\n",
      "Norm: 3536.73, NNZs: 640, Bias: 48.898841, T: 192000, Avg. loss: 6783.937740\n",
      "Total training time: 0.20 seconds.\n",
      "-- Epoch 5\n",
      "Norm: 3030.23, NNZs: 640, Bias: 51.714752, T: 240000, Avg. loss: 5193.580166\n",
      "Total training time: 0.25 seconds.\n",
      "-- Epoch 6\n",
      "Norm: 2683.40, NNZs: 640, Bias: 54.622984, T: 288000, Avg. loss: 4252.619391\n",
      "Total training time: 0.31 seconds.\n",
      "-- Epoch 7\n",
      "Norm: 2417.52, NNZs: 644, Bias: 56.929959, T: 336000, Avg. loss: 3524.975543\n",
      "Total training time: 0.36 seconds.\n",
      "-- Epoch 8\n",
      "Norm: 2190.51, NNZs: 644, Bias: 59.199062, T: 384000, Avg. loss: 3067.959581\n",
      "Total training time: 0.42 seconds.\n",
      "-- Epoch 9\n",
      "Norm: 1989.96, NNZs: 650, Bias: 60.800327, T: 432000, Avg. loss: 2716.344467\n",
      "Total training time: 0.48 seconds.\n",
      "-- Epoch 10\n",
      "Norm: 1861.62, NNZs: 650, Bias: 62.174311, T: 480000, Avg. loss: 2406.979968\n",
      "Total training time: 0.53 seconds.\n",
      "-- Epoch 1\n",
      "Norm: 9273.43, NNZs: 623, Bias: 37.409377, T: 48000, Avg. loss: 118312.075701\n",
      "Total training time: 0.05 seconds.\n",
      "-- Epoch 2\n",
      "Norm: 5750.99, NNZs: 629, Bias: 45.042381, T: 96000, Avg. loss: 16863.229956\n",
      "Total training time: 0.10 seconds.\n",
      "-- Epoch 3\n",
      "Norm: 4353.15, NNZs: 636, Bias: 49.261995, T: 144000, Avg. loss: 9814.032159\n",
      "Total training time: 0.15 seconds.\n",
      "-- Epoch 4\n",
      "Norm: 3502.19, NNZs: 638, Bias: 53.434305, T: 192000, Avg. loss: 6898.301992\n",
      "Total training time: 0.20 seconds.\n",
      "-- Epoch 5\n",
      "Norm: 2929.26, NNZs: 644, Bias: 56.469704, T: 240000, Avg. loss: 5299.556975\n",
      "Total training time: 0.25 seconds.\n",
      "-- Epoch 6\n",
      "Norm: 2584.43, NNZs: 649, Bias: 59.027099, T: 288000, Avg. loss: 4256.442338\n",
      "Total training time: 0.30 seconds.\n",
      "-- Epoch 7\n",
      "Norm: 2291.20, NNZs: 650, Bias: 61.222706, T: 336000, Avg. loss: 3615.138903\n",
      "Total training time: 0.35 seconds.\n",
      "-- Epoch 8\n",
      "Norm: 2066.51, NNZs: 650, Bias: 63.358554, T: 384000, Avg. loss: 3119.990191\n",
      "Total training time: 0.40 seconds.\n",
      "-- Epoch 9\n",
      "Norm: 1910.61, NNZs: 650, Bias: 65.090476, T: 432000, Avg. loss: 2646.389968\n",
      "Total training time: 0.45 seconds.\n",
      "-- Epoch 10\n",
      "Norm: 1794.26, NNZs: 650, Bias: 66.360451, T: 480000, Avg. loss: 2472.150570\n",
      "Total training time: 0.50 seconds.\n",
      "-- Epoch 1\n",
      "Norm: 9429.78, NNZs: 613, Bias: 47.880361, T: 48000, Avg. loss: 116925.479705\n",
      "Total training time: 0.06 seconds.\n",
      "-- Epoch 2\n",
      "Norm: 5856.31, NNZs: 629, Bias: 56.485836, T: 96000, Avg. loss: 17323.320401\n",
      "Total training time: 0.11 seconds.\n",
      "-- Epoch 3\n",
      "Norm: 4361.66, NNZs: 637, Bias: 61.749061, T: 144000, Avg. loss: 10023.062508\n",
      "Total training time: 0.17 seconds.\n",
      "-- Epoch 4\n",
      "Norm: 3548.56, NNZs: 645, Bias: 65.280942, T: 192000, Avg. loss: 6931.328141\n",
      "Total training time: 0.22 seconds.\n",
      "-- Epoch 5\n",
      "Norm: 2971.70, NNZs: 650, Bias: 67.475620, T: 240000, Avg. loss: 5259.413862\n",
      "Total training time: 0.28 seconds.\n",
      "-- Epoch 6\n",
      "Norm: 2649.11, NNZs: 652, Bias: 70.348405, T: 288000, Avg. loss: 4285.024130\n",
      "Total training time: 0.34 seconds.\n",
      "-- Epoch 7\n",
      "Norm: 2376.77, NNZs: 654, Bias: 72.161719, T: 336000, Avg. loss: 3629.202879\n",
      "Total training time: 0.40 seconds.\n",
      "-- Epoch 8\n",
      "Norm: 2175.00, NNZs: 654, Bias: 73.641374, T: 384000, Avg. loss: 3170.209897\n",
      "Total training time: 0.45 seconds.\n",
      "-- Epoch 9\n",
      "Norm: 2011.94, NNZs: 654, Bias: 74.903509, T: 432000, Avg. loss: 2725.023538\n",
      "Total training time: 0.51 seconds.\n",
      "-- Epoch 10\n",
      "Norm: 1880.56, NNZs: 654, Bias: 76.256045, T: 480000, Avg. loss: 2520.069172\n",
      "Total training time: 0.56 seconds.\n",
      "-- Epoch 1\n",
      "Norm: 9245.89, NNZs: 619, Bias: 57.336074, T: 48001, Avg. loss: 109942.360972\n",
      "Total training time: 0.05 seconds.\n",
      "-- Epoch 2\n",
      "Norm: 5733.94, NNZs: 629, Bias: 64.754385, T: 96002, Avg. loss: 17237.279862\n",
      "Total training time: 0.10 seconds.\n",
      "-- Epoch 3\n",
      "Norm: 4159.25, NNZs: 633, Bias: 70.413665, T: 144003, Avg. loss: 9901.786022\n",
      "Total training time: 0.15 seconds.\n",
      "-- Epoch 4\n",
      "Norm: 3409.39, NNZs: 635, Bias: 73.738728, T: 192004, Avg. loss: 6740.573640\n",
      "Total training time: 0.21 seconds.\n",
      "-- Epoch 5\n",
      "Norm: 2875.10, NNZs: 638, Bias: 77.030083, T: 240005, Avg. loss: 5173.424865\n",
      "Total training time: 0.26 seconds.\n",
      "-- Epoch 6\n",
      "Norm: 2561.75, NNZs: 640, Bias: 79.123612, T: 288006, Avg. loss: 4274.638546\n",
      "Total training time: 0.31 seconds.\n",
      "-- Epoch 7\n",
      "Norm: 2298.16, NNZs: 644, Bias: 80.669663, T: 336007, Avg. loss: 3619.594706\n",
      "Total training time: 0.36 seconds.\n",
      "-- Epoch 8\n",
      "Norm: 2120.00, NNZs: 647, Bias: 82.317508, T: 384008, Avg. loss: 3181.027534\n",
      "Total training time: 0.42 seconds.\n",
      "-- Epoch 9\n",
      "Norm: 1963.05, NNZs: 647, Bias: 83.473262, T: 432009, Avg. loss: 2767.170112\n",
      "Total training time: 0.48 seconds.\n",
      "-- Epoch 10\n",
      "Norm: 1827.51, NNZs: 648, Bias: 84.852942, T: 480010, Avg. loss: 2467.691821\n",
      "Total training time: 0.53 seconds.\n"
     ]
    },
    {
     "data": {
      "text/plain": [
       "array([0.9592534 , 0.96625   , 0.963     , 0.97058333, 0.96791399])"
      ]
     },
     "execution_count": 34,
     "metadata": {},
     "output_type": "execute_result"
    }
   ],
   "source": [
    "cross_val_score(sgd_clf, X_train, y_train_5, cv=5, scoring=\"accuracy\")"
   ]
  },
  {
   "cell_type": "code",
   "execution_count": 35,
   "metadata": {},
   "outputs": [
    {
     "name": "stdout",
     "output_type": "stream",
     "text": [
      "-- Epoch 1\n",
      "Norm: 10440.23, NNZs: 608, Bias: -4.608426, T: 40000, Avg. loss: 128674.988413\n",
      "Total training time: 0.04 seconds.\n",
      "-- Epoch 2\n",
      "Norm: 6527.51, NNZs: 626, Bias: 2.083937, T: 80000, Avg. loss: 20590.947113\n",
      "Total training time: 0.08 seconds.\n",
      "-- Epoch 3\n",
      "Norm: 5026.96, NNZs: 633, Bias: 4.523462, T: 120000, Avg. loss: 11249.075564\n",
      "Total training time: 0.12 seconds.\n",
      "-- Epoch 4\n",
      "Norm: 4149.25, NNZs: 641, Bias: 7.821485, T: 160000, Avg. loss: 7689.361463\n",
      "Total training time: 0.17 seconds.\n",
      "-- Epoch 5\n",
      "Norm: 3570.46, NNZs: 643, Bias: 9.721195, T: 200000, Avg. loss: 6264.955825\n",
      "Total training time: 0.21 seconds.\n",
      "-- Epoch 6\n",
      "Norm: 3139.24, NNZs: 646, Bias: 11.070565, T: 240000, Avg. loss: 4955.525992\n",
      "Total training time: 0.25 seconds.\n",
      "-- Epoch 7\n",
      "Norm: 2839.98, NNZs: 646, Bias: 12.228031, T: 280000, Avg. loss: 4304.237245\n",
      "Total training time: 0.29 seconds.\n",
      "-- Epoch 8\n",
      "Norm: 2610.63, NNZs: 651, Bias: 13.632419, T: 320000, Avg. loss: 3600.135134\n",
      "Total training time: 0.33 seconds.\n",
      "-- Epoch 9\n",
      "Norm: 2429.32, NNZs: 651, Bias: 14.702112, T: 360000, Avg. loss: 3206.281716\n",
      "Total training time: 0.37 seconds.\n",
      "-- Epoch 10\n",
      "Norm: 2272.87, NNZs: 651, Bias: 15.696954, T: 400000, Avg. loss: 2847.763671\n",
      "Total training time: 0.41 seconds.\n",
      "-- Epoch 1\n",
      "Norm: 10929.24, NNZs: 618, Bias: 63.487475, T: 40000, Avg. loss: 130468.684881\n",
      "Total training time: 0.05 seconds.\n",
      "-- Epoch 2\n",
      "Norm: 6559.84, NNZs: 624, Bias: 73.271213, T: 80000, Avg. loss: 20648.814828\n",
      "Total training time: 0.10 seconds.\n",
      "-- Epoch 3\n",
      "Norm: 4818.76, NNZs: 630, Bias: 79.916495, T: 120000, Avg. loss: 11958.275918\n",
      "Total training time: 0.14 seconds.\n",
      "-- Epoch 4\n",
      "Norm: 3977.66, NNZs: 630, Bias: 83.660675, T: 160000, Avg. loss: 8008.203064\n",
      "Total training time: 0.18 seconds.\n",
      "-- Epoch 5\n",
      "Norm: 3416.14, NNZs: 633, Bias: 87.219028, T: 200000, Avg. loss: 6278.588881\n",
      "Total training time: 0.22 seconds.\n",
      "-- Epoch 6\n",
      "Norm: 3002.35, NNZs: 636, Bias: 89.558650, T: 240000, Avg. loss: 5133.292289\n",
      "Total training time: 0.26 seconds.\n",
      "-- Epoch 7\n",
      "Norm: 2672.44, NNZs: 638, Bias: 91.902146, T: 280000, Avg. loss: 4384.082778\n",
      "Total training time: 0.30 seconds.\n",
      "-- Epoch 8\n",
      "Norm: 2413.50, NNZs: 639, Bias: 94.208572, T: 320000, Avg. loss: 3779.128298\n",
      "Total training time: 0.35 seconds.\n",
      "-- Epoch 9\n",
      "Norm: 2226.23, NNZs: 642, Bias: 96.250034, T: 360000, Avg. loss: 3231.621339\n",
      "Total training time: 0.39 seconds.\n",
      "-- Epoch 10\n",
      "Norm: 2092.77, NNZs: 646, Bias: 98.299085, T: 400000, Avg. loss: 2968.907555\n",
      "Total training time: 0.44 seconds.\n",
      "-- Epoch 1\n",
      "Norm: 10868.93, NNZs: 623, Bias: 22.705155, T: 40000, Avg. loss: 131130.288469\n",
      "Total training time: 0.04 seconds.\n",
      "-- Epoch 2\n",
      "Norm: 6592.36, NNZs: 630, Bias: 27.987106, T: 80000, Avg. loss: 20258.454966\n",
      "Total training time: 0.08 seconds.\n",
      "-- Epoch 3\n",
      "Norm: 4853.94, NNZs: 641, Bias: 33.544557, T: 120000, Avg. loss: 11839.946254\n",
      "Total training time: 0.12 seconds.\n",
      "-- Epoch 4\n",
      "Norm: 4051.34, NNZs: 648, Bias: 36.657352, T: 160000, Avg. loss: 8197.847179\n",
      "Total training time: 0.17 seconds.\n",
      "-- Epoch 5\n",
      "Norm: 3442.52, NNZs: 651, Bias: 39.369769, T: 200000, Avg. loss: 6422.947030\n",
      "Total training time: 0.21 seconds.\n",
      "-- Epoch 6\n",
      "Norm: 3028.90, NNZs: 652, Bias: 41.665150, T: 240000, Avg. loss: 5165.193751\n",
      "Total training time: 0.26 seconds.\n",
      "-- Epoch 7\n",
      "Norm: 2651.41, NNZs: 652, Bias: 43.405721, T: 280000, Avg. loss: 4358.990019\n",
      "Total training time: 0.30 seconds.\n",
      "-- Epoch 8\n",
      "Norm: 2436.69, NNZs: 653, Bias: 44.949590, T: 320000, Avg. loss: 3727.011344\n",
      "Total training time: 0.35 seconds.\n",
      "-- Epoch 9\n",
      "Norm: 2229.38, NNZs: 653, Bias: 46.239378, T: 360000, Avg. loss: 3267.731569\n",
      "Total training time: 0.40 seconds.\n",
      "-- Epoch 10\n",
      "Norm: 2104.01, NNZs: 653, Bias: 47.600548, T: 400000, Avg. loss: 2961.874195\n",
      "Total training time: 0.45 seconds.\n"
     ]
    }
   ],
   "source": [
    "y_train_pred_sgd_clf = cross_val_predict(sgd_clf, X_train, y_train_5, cv=3)"
   ]
  },
  {
   "cell_type": "code",
   "execution_count": 36,
   "metadata": {},
   "outputs": [
    {
     "data": {
      "text/plain": [
       "array([[52467,  2112],\n",
       "       [ 1104,  4317]])"
      ]
     },
     "execution_count": 36,
     "metadata": {},
     "output_type": "execute_result"
    }
   ],
   "source": [
    "confusion_matrix(y_train_5, y_train_pred_sgd_clf)"
   ]
  },
  {
   "cell_type": "markdown",
   "metadata": {},
   "source": [
    "Compared with logistic regression model, the number of false positive in the SGD model is increased. "
   ]
  },
  {
   "cell_type": "code",
   "execution_count": 37,
   "metadata": {},
   "outputs": [
    {
     "data": {
      "text/plain": [
       "array([[54039,   540],\n",
       "       [ 1030,  4391]])"
      ]
     },
     "execution_count": 37,
     "metadata": {},
     "output_type": "execute_result"
    }
   ],
   "source": [
    "confusion_matrix(y_train_5, y_train_pred_logit_clf)"
   ]
  },
  {
   "cell_type": "code",
   "execution_count": 38,
   "metadata": {},
   "outputs": [
    {
     "data": {
      "text/plain": [
       "0.6714885674288381"
      ]
     },
     "execution_count": 38,
     "metadata": {},
     "output_type": "execute_result"
    }
   ],
   "source": [
    "precision_score(y_train_5, y_train_pred_sgd_clf)"
   ]
  },
  {
   "cell_type": "code",
   "execution_count": 39,
   "metadata": {
    "scrolled": true
   },
   "outputs": [
    {
     "data": {
      "text/plain": [
       "0.7963475373547316"
      ]
     },
     "execution_count": 39,
     "metadata": {},
     "output_type": "execute_result"
    }
   ],
   "source": [
    "recall_score(y_train_5, y_train_pred_sgd_clf)"
   ]
  },
  {
   "cell_type": "markdown",
   "metadata": {},
   "source": [
    "Try the trained model on our test data"
   ]
  },
  {
   "cell_type": "code",
   "execution_count": 40,
   "metadata": {},
   "outputs": [],
   "source": [
    "y_pred_sgd_clf = sgd_clf.predict(X_test)"
   ]
  },
  {
   "cell_type": "code",
   "execution_count": 41,
   "metadata": {},
   "outputs": [
    {
     "data": {
      "text/plain": [
       "array([[8965,  143],\n",
       "       [ 196,  696]])"
      ]
     },
     "execution_count": 41,
     "metadata": {},
     "output_type": "execute_result"
    }
   ],
   "source": [
    "confusion_matrix(y_test_5, y_pred_sgd_clf)"
   ]
  },
  {
   "cell_type": "code",
   "execution_count": 42,
   "metadata": {},
   "outputs": [
    {
     "data": {
      "text/plain": [
       "0.8295589988081049"
      ]
     },
     "execution_count": 42,
     "metadata": {},
     "output_type": "execute_result"
    }
   ],
   "source": [
    "precision_score(y_test_5, y_pred_sgd_clf)"
   ]
  },
  {
   "cell_type": "code",
   "execution_count": 43,
   "metadata": {},
   "outputs": [
    {
     "data": {
      "text/plain": [
       "0.7802690582959642"
      ]
     },
     "execution_count": 43,
     "metadata": {},
     "output_type": "execute_result"
    }
   ],
   "source": [
    "recall_score(y_test_5, y_pred_sgd_clf)"
   ]
  },
  {
   "cell_type": "markdown",
   "metadata": {},
   "source": [
    "### Decision Tree Classifier"
   ]
  },
  {
   "cell_type": "code",
   "execution_count": 44,
   "metadata": {},
   "outputs": [],
   "source": [
    "from sklearn.tree import DecisionTreeClassifier\n",
    "dt_clf = DecisionTreeClassifier(random_state=42)"
   ]
  },
  {
   "cell_type": "code",
   "execution_count": 45,
   "metadata": {},
   "outputs": [
    {
     "name": "stdout",
     "output_type": "stream",
     "text": [
      "Time elapsed: 21.61s\n"
     ]
    }
   ],
   "source": [
    "start_time = time()\n",
    "dt_clf.fit(X_train, y_train_5)\n",
    "print('Time elapsed: %.2fs' % (time()-start_time))"
   ]
  },
  {
   "cell_type": "code",
   "execution_count": 46,
   "metadata": {
    "scrolled": true
   },
   "outputs": [
    {
     "data": {
      "text/plain": [
       "array([0.9696 , 0.9718 , 0.97475])"
      ]
     },
     "execution_count": 46,
     "metadata": {},
     "output_type": "execute_result"
    }
   ],
   "source": [
    "cross_val_score(dt_clf, X_train, y_train_5, cv=3, scoring=\"accuracy\")"
   ]
  },
  {
   "cell_type": "code",
   "execution_count": 47,
   "metadata": {},
   "outputs": [],
   "source": [
    "y_train_pred_dt_clf = cross_val_predict(dt_clf, X_train, y_train_5, cv=3)"
   ]
  },
  {
   "cell_type": "code",
   "execution_count": 48,
   "metadata": {
    "scrolled": true
   },
   "outputs": [
    {
     "data": {
      "text/plain": [
       "array([[53730,   849],\n",
       "       [  828,  4593]])"
      ]
     },
     "execution_count": 48,
     "metadata": {},
     "output_type": "execute_result"
    }
   ],
   "source": [
    "confusion_matrix(y_train_5, y_train_pred_dt_clf)"
   ]
  },
  {
   "cell_type": "code",
   "execution_count": 49,
   "metadata": {},
   "outputs": [
    {
     "data": {
      "text/plain": [
       "0.8439911797133407"
      ]
     },
     "execution_count": 49,
     "metadata": {},
     "output_type": "execute_result"
    }
   ],
   "source": [
    "precision_score(y_train_5, y_train_pred_dt_clf)"
   ]
  },
  {
   "cell_type": "code",
   "execution_count": 50,
   "metadata": {},
   "outputs": [
    {
     "data": {
      "text/plain": [
       "0.8472606530160487"
      ]
     },
     "execution_count": 50,
     "metadata": {},
     "output_type": "execute_result"
    }
   ],
   "source": [
    "recall_score(y_train_5, y_train_pred_dt_clf)"
   ]
  },
  {
   "cell_type": "markdown",
   "metadata": {},
   "source": [
    "Try on the test data"
   ]
  },
  {
   "cell_type": "code",
   "execution_count": 51,
   "metadata": {},
   "outputs": [],
   "source": [
    "y_pred_dt_clf = dt_clf.predict(X_test)"
   ]
  },
  {
   "cell_type": "code",
   "execution_count": 52,
   "metadata": {},
   "outputs": [
    {
     "data": {
      "text/plain": [
       "array([[8980,  128],\n",
       "       [ 126,  766]])"
      ]
     },
     "execution_count": 52,
     "metadata": {},
     "output_type": "execute_result"
    }
   ],
   "source": [
    "confusion_matrix(y_test_5, y_pred_dt_clf)"
   ]
  },
  {
   "cell_type": "code",
   "execution_count": 53,
   "metadata": {},
   "outputs": [
    {
     "data": {
      "text/plain": [
       "0.8568232662192393"
      ]
     },
     "execution_count": 53,
     "metadata": {},
     "output_type": "execute_result"
    }
   ],
   "source": [
    "precision_score(y_test_5, y_pred_dt_clf)"
   ]
  },
  {
   "cell_type": "code",
   "execution_count": 54,
   "metadata": {
    "scrolled": true
   },
   "outputs": [
    {
     "data": {
      "text/plain": [
       "0.8587443946188341"
      ]
     },
     "execution_count": 54,
     "metadata": {},
     "output_type": "execute_result"
    }
   ],
   "source": [
    "recall_score(y_test_5, y_pred_dt_clf)"
   ]
  },
  {
   "cell_type": "markdown",
   "metadata": {},
   "source": [
    "### Random Forest Classifier"
   ]
  },
  {
   "cell_type": "code",
   "execution_count": 55,
   "metadata": {},
   "outputs": [],
   "source": [
    "from sklearn.ensemble import RandomForestClassifier\n",
    "forest_clf = RandomForestClassifier(random_state=42)"
   ]
  },
  {
   "cell_type": "code",
   "execution_count": 56,
   "metadata": {},
   "outputs": [
    {
     "name": "stdout",
     "output_type": "stream",
     "text": [
      "Time elapsed: 4.65s\n"
     ]
    }
   ],
   "source": [
    "start_time = time()\n",
    "forest_clf.fit(X_train, y_train_5)\n",
    "print('Time elapsed: %.2fs' % (time()-start_time))"
   ]
  },
  {
   "cell_type": "code",
   "execution_count": 57,
   "metadata": {
    "scrolled": true
   },
   "outputs": [
    {
     "data": {
      "text/plain": [
       "array([0.9832, 0.9839, 0.9836])"
      ]
     },
     "execution_count": 57,
     "metadata": {},
     "output_type": "execute_result"
    }
   ],
   "source": [
    "cross_val_score(forest_clf, X_train, y_train_5, cv=3, scoring=\"accuracy\")"
   ]
  },
  {
   "cell_type": "code",
   "execution_count": 58,
   "metadata": {},
   "outputs": [],
   "source": [
    "y_train_pred_forest_clf = cross_val_predict(forest_clf, X_train, y_train_5, cv=3)"
   ]
  },
  {
   "cell_type": "code",
   "execution_count": 59,
   "metadata": {
    "scrolled": true
   },
   "outputs": [
    {
     "data": {
      "text/plain": [
       "array([[54501,    78],\n",
       "       [  908,  4513]])"
      ]
     },
     "execution_count": 59,
     "metadata": {},
     "output_type": "execute_result"
    }
   ],
   "source": [
    "confusion_matrix(y_train_5, y_train_pred_forest_clf)"
   ]
  },
  {
   "cell_type": "code",
   "execution_count": 60,
   "metadata": {},
   "outputs": [
    {
     "data": {
      "text/plain": [
       "0.9830102374210412"
      ]
     },
     "execution_count": 60,
     "metadata": {},
     "output_type": "execute_result"
    }
   ],
   "source": [
    "precision_score(y_train_5, y_train_pred_forest_clf)"
   ]
  },
  {
   "cell_type": "code",
   "execution_count": 61,
   "metadata": {},
   "outputs": [
    {
     "data": {
      "text/plain": [
       "0.8325032281866814"
      ]
     },
     "execution_count": 61,
     "metadata": {},
     "output_type": "execute_result"
    }
   ],
   "source": [
    "recall_score(y_train_5, y_train_pred_forest_clf)"
   ]
  },
  {
   "cell_type": "markdown",
   "metadata": {},
   "source": [
    "Try on the test data"
   ]
  },
  {
   "cell_type": "code",
   "execution_count": 62,
   "metadata": {},
   "outputs": [],
   "source": [
    "y_pred_forest_clf = forest_clf.predict(X_test)"
   ]
  },
  {
   "cell_type": "code",
   "execution_count": 63,
   "metadata": {},
   "outputs": [
    {
     "data": {
      "text/plain": [
       "array([[9094,   14],\n",
       "       [ 154,  738]])"
      ]
     },
     "execution_count": 63,
     "metadata": {},
     "output_type": "execute_result"
    }
   ],
   "source": [
    "confusion_matrix(y_test_5, y_pred_forest_clf)"
   ]
  },
  {
   "cell_type": "code",
   "execution_count": 64,
   "metadata": {},
   "outputs": [
    {
     "data": {
      "text/plain": [
       "0.9813829787234043"
      ]
     },
     "execution_count": 64,
     "metadata": {},
     "output_type": "execute_result"
    }
   ],
   "source": [
    "precision_score(y_test_5, y_pred_forest_clf)"
   ]
  },
  {
   "cell_type": "code",
   "execution_count": 65,
   "metadata": {
    "scrolled": true
   },
   "outputs": [
    {
     "data": {
      "text/plain": [
       "0.827354260089686"
      ]
     },
     "execution_count": 65,
     "metadata": {},
     "output_type": "execute_result"
    }
   ],
   "source": [
    "recall_score(y_test_5, y_pred_forest_clf)"
   ]
  },
  {
   "cell_type": "markdown",
   "metadata": {},
   "source": [
    "### KNN (K Nearest Neighor) Classifier"
   ]
  },
  {
   "cell_type": "code",
   "execution_count": 66,
   "metadata": {},
   "outputs": [],
   "source": [
    "from sklearn.neighbors import KNeighborsClassifier\n",
    "knn_clf = KNeighborsClassifier(n_jobs=-1, n_neighbors=3)"
   ]
  },
  {
   "cell_type": "code",
   "execution_count": 67,
   "metadata": {},
   "outputs": [
    {
     "name": "stdout",
     "output_type": "stream",
     "text": [
      "Time elapsed: 34.92s\n"
     ]
    }
   ],
   "source": [
    "start_time = time()\n",
    "knn_clf.fit(X_train, y_train_5)\n",
    "print('Time elapsed: %.2fs' % (time()-start_time))"
   ]
  },
  {
   "cell_type": "code",
   "execution_count": null,
   "metadata": {},
   "outputs": [],
   "source": [
    "cross_val_score(knn_clf, X_train, y_train_5, cv=3, scoring=\"accuracy\")"
   ]
  },
  {
   "cell_type": "code",
   "execution_count": null,
   "metadata": {},
   "outputs": [],
   "source": [
    "y_train_pred_knn_clf = cross_val_predict(knn_clf, X_train, y_train_5, cv=3)"
   ]
  },
  {
   "cell_type": "code",
   "execution_count": null,
   "metadata": {},
   "outputs": [],
   "source": [
    "confusion_matrix(y_train_5, y_train_pred_knn_clf)"
   ]
  },
  {
   "cell_type": "code",
   "execution_count": null,
   "metadata": {},
   "outputs": [],
   "source": [
    "precision_score(y_train_5, y_train_pred_knn_clf)"
   ]
  },
  {
   "cell_type": "code",
   "execution_count": null,
   "metadata": {},
   "outputs": [],
   "source": [
    "recall_score(y_train_5, y_train_pred_knn_clf)"
   ]
  },
  {
   "cell_type": "markdown",
   "metadata": {},
   "source": [
    "Try on the test data"
   ]
  },
  {
   "cell_type": "code",
   "execution_count": null,
   "metadata": {},
   "outputs": [],
   "source": [
    "y_pred_knn_clf = knn_clf.predict(X_test)"
   ]
  },
  {
   "cell_type": "code",
   "execution_count": null,
   "metadata": {},
   "outputs": [],
   "source": [
    "confusion_matrix(y_test_5, y_pred_knn_clf)"
   ]
  },
  {
   "cell_type": "code",
   "execution_count": null,
   "metadata": {},
   "outputs": [],
   "source": [
    "from sklearn.metrics import precision_score, recall_score\n",
    "precision_score(y_test_5, y_pred_knn_clf)"
   ]
  },
  {
   "cell_type": "code",
   "execution_count": null,
   "metadata": {},
   "outputs": [],
   "source": [
    "recall_score(y_test_5, y_pred_knn_clf)"
   ]
  }
 ],
 "metadata": {
  "kernelspec": {
   "display_name": "Python 3",
   "language": "python",
   "name": "python3"
  },
  "language_info": {
   "codemirror_mode": {
    "name": "ipython",
    "version": 3
   },
   "file_extension": ".py",
   "mimetype": "text/x-python",
   "name": "python",
   "nbconvert_exporter": "python",
   "pygments_lexer": "ipython3",
   "version": "3.6.5"
  },
  "nav_menu": {},
  "toc": {
   "navigate_menu": true,
   "number_sections": true,
   "sideBar": true,
   "threshold": 6,
   "toc_cell": false,
   "toc_section_display": "block",
   "toc_window_display": false
  }
 },
 "nbformat": 4,
 "nbformat_minor": 1
}
